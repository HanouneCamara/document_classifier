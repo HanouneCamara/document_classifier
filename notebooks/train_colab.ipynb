{
 "cells": [
  {
   "cell_type": "code",
   "execution_count": null,
   "id": "7b8b1a66",
   "metadata": {},
   "outputs": [],
   "source": [
    "# Télécharger dataset test (hymenoptera_data)\n",
    "!wget https://download.pytorch.org/tutorial/hymenoptera_data.zip\n",
    "!unzip hymenoptera_data.zip\n",
    "\n",
    "# Afficher la structre\n",
    "!ls hymenoptera_data/train"
   ]
  },
  {
   "cell_type": "code",
   "execution_count": null,
   "id": "9c5adf16",
   "metadata": {},
   "outputs": [],
   "source": [
    "# Chargement et affichage rapide\n",
    "\n",
    "import torch\n",
    "from torchvision import datasets, transforms\n",
    "from torch.utils.data import DataLoader\n",
    "import matplotlib.pyplot as plt\n",
    "\n",
    "# Transformations simples\n",
    "transform = transforms.Compose([\n",
    "    transforms.Resize((224, 224)), #Taille\n",
    "    transforms.ToTensor() #Convertis en tensors\n",
    "])\n",
    "\n",
    "# Dataset\n",
    "train_dataset = datasets.ImageFolder(\"hymenoptera_data/train\", transform=transform) #Lire les images et donner un label\n",
    "train_loader = DataLoader(train_dataset, batch_size=4, shuffle=True)\n",
    "\n",
    "#Afficher un batch\n",
    "images, labels = next(iter(train_loader))\n",
    "fig, axs = plt.subplots(1, 4, figsize=(12, 4)) #Une figure avec 1 ligne et 4 colonnes / axs contient 4 cases pour afficher chaque image\n",
    "for i in range(4):\n",
    "    axs[i].imshow(images[i].permute(1, 2, 0))\n",
    "    axs[i].set_title(train_dataset.classes[labels[i]])\n",
    "    axs[i].axis('off')\n",
    "plt.show()\n"
   ]
  }
 ],
 "metadata": {
  "kernelspec": {
   "display_name": "Python 3",
   "language": "python",
   "name": "python3"
  },
  "language_info": {
   "codemirror_mode": {
    "name": "ipython",
    "version": 3
   },
   "file_extension": ".py",
   "mimetype": "text/x-python",
   "name": "python",
   "nbconvert_exporter": "python",
   "pygments_lexer": "ipython3",
   "version": "3.10.12"
  }
 },
 "nbformat": 4,
 "nbformat_minor": 5
}
